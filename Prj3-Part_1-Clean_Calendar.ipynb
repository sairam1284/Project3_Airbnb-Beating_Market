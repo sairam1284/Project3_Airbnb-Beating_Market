{
 "cells": [
  {
   "cell_type": "markdown",
   "metadata": {},
   "source": [
    "# Clean/Transform the Calendar Dataset\n",
    "***The Goal of this file will be to use the Calendar Dataset and extract information regarding how many days each place was rented.  This information will then be joined with the Listings dataframe*** \n",
    "- Group the dataset by Listings; figure out the total number of days rented for each listing\n",
    "- Based on that answer, calculate the vacancy rate\n",
    "- Merge with the listings dataset and study places with high vacancy rates\n"
   ]
  },
  {
   "cell_type": "code",
   "execution_count": 21,
   "metadata": {},
   "outputs": [],
   "source": [
    "import pandas as pd\n",
    "import numpy as np\n",
    "pd.set_option('display.max_rows', 50)\n",
    "pd.set_option('display.max_columns', 60)\n",
    "import matplotlib.pyplot as plt"
   ]
  },
  {
   "cell_type": "code",
   "execution_count": 22,
   "metadata": {},
   "outputs": [],
   "source": [
    "df = pd.read_csv('Berlin_airbnb/listings_clean.csv')\n",
    "calendar = pd.read_csv('Berlin_airbnb/calendar_summary.csv')"
   ]
  },
  {
   "cell_type": "code",
   "execution_count": 3,
   "metadata": {},
   "outputs": [
    {
     "data": {
      "text/html": [
       "<div>\n",
       "<style scoped>\n",
       "    .dataframe tbody tr th:only-of-type {\n",
       "        vertical-align: middle;\n",
       "    }\n",
       "\n",
       "    .dataframe tbody tr th {\n",
       "        vertical-align: top;\n",
       "    }\n",
       "\n",
       "    .dataframe thead th {\n",
       "        text-align: right;\n",
       "    }\n",
       "</style>\n",
       "<table border=\"1\" class=\"dataframe\">\n",
       "  <thead>\n",
       "    <tr style=\"text-align: right;\">\n",
       "      <th></th>\n",
       "      <th>listing_id</th>\n",
       "      <th>date</th>\n",
       "      <th>available</th>\n",
       "      <th>price</th>\n",
       "    </tr>\n",
       "  </thead>\n",
       "  <tbody>\n",
       "    <tr>\n",
       "      <th>6601564</th>\n",
       "      <td>23761166</td>\n",
       "      <td>2019-08-11</td>\n",
       "      <td>f</td>\n",
       "      <td>NaN</td>\n",
       "    </tr>\n",
       "    <tr>\n",
       "      <th>1388138</th>\n",
       "      <td>5983873</td>\n",
       "      <td>2019-08-15</td>\n",
       "      <td>f</td>\n",
       "      <td>NaN</td>\n",
       "    </tr>\n",
       "    <tr>\n",
       "      <th>5486734</th>\n",
       "      <td>20859002</td>\n",
       "      <td>2019-08-05</td>\n",
       "      <td>f</td>\n",
       "      <td>NaN</td>\n",
       "    </tr>\n",
       "    <tr>\n",
       "      <th>628466</th>\n",
       "      <td>2397684</td>\n",
       "      <td>2019-02-06</td>\n",
       "      <td>f</td>\n",
       "      <td>NaN</td>\n",
       "    </tr>\n",
       "    <tr>\n",
       "      <th>4201959</th>\n",
       "      <td>17259371</td>\n",
       "      <td>2019-04-15</td>\n",
       "      <td>f</td>\n",
       "      <td>NaN</td>\n",
       "    </tr>\n",
       "    <tr>\n",
       "      <th>1576205</th>\n",
       "      <td>6697033</td>\n",
       "      <td>2019-04-18</td>\n",
       "      <td>t</td>\n",
       "      <td>$79.00</td>\n",
       "    </tr>\n",
       "    <tr>\n",
       "      <th>3116933</th>\n",
       "      <td>12919725</td>\n",
       "      <td>2019-04-09</td>\n",
       "      <td>f</td>\n",
       "      <td>NaN</td>\n",
       "    </tr>\n",
       "    <tr>\n",
       "      <th>5274390</th>\n",
       "      <td>20449134</td>\n",
       "      <td>2018-11-14</td>\n",
       "      <td>f</td>\n",
       "      <td>NaN</td>\n",
       "    </tr>\n",
       "    <tr>\n",
       "      <th>6513742</th>\n",
       "      <td>23600491</td>\n",
       "      <td>2019-02-14</td>\n",
       "      <td>f</td>\n",
       "      <td>NaN</td>\n",
       "    </tr>\n",
       "    <tr>\n",
       "      <th>6722755</th>\n",
       "      <td>24303386</td>\n",
       "      <td>2019-08-29</td>\n",
       "      <td>t</td>\n",
       "      <td>$48.00</td>\n",
       "    </tr>\n",
       "  </tbody>\n",
       "</table>\n",
       "</div>"
      ],
      "text/plain": [
       "         listing_id        date available   price\n",
       "6601564    23761166  2019-08-11         f     NaN\n",
       "1388138     5983873  2019-08-15         f     NaN\n",
       "5486734    20859002  2019-08-05         f     NaN\n",
       "628466      2397684  2019-02-06         f     NaN\n",
       "4201959    17259371  2019-04-15         f     NaN\n",
       "1576205     6697033  2019-04-18         t  $79.00\n",
       "3116933    12919725  2019-04-09         f     NaN\n",
       "5274390    20449134  2018-11-14         f     NaN\n",
       "6513742    23600491  2019-02-14         f     NaN\n",
       "6722755    24303386  2019-08-29         t  $48.00"
      ]
     },
     "execution_count": 3,
     "metadata": {},
     "output_type": "execute_result"
    }
   ],
   "source": [
    "calendar.sample(10)"
   ]
  },
  {
   "cell_type": "code",
   "execution_count": 4,
   "metadata": {},
   "outputs": [
    {
     "data": {
      "text/plain": [
       "listing_id          0\n",
       "date                0\n",
       "available           0\n",
       "price         6430639\n",
       "dtype: int64"
      ]
     },
     "execution_count": 4,
     "metadata": {},
     "output_type": "execute_result"
    }
   ],
   "source": [
    "#No Null Values!!\n",
    "calendar.isna().sum()"
   ]
  },
  {
   "cell_type": "code",
   "execution_count": 5,
   "metadata": {},
   "outputs": [],
   "source": [
    "calendar['days_rented'] = calendar['available'].replace({'t':0, 'f':1})"
   ]
  },
  {
   "cell_type": "code",
   "execution_count": 6,
   "metadata": {},
   "outputs": [],
   "source": [
    "vacancy = calendar.groupby('listing_id')['days_rented'].sum().reset_index()"
   ]
  },
  {
   "cell_type": "code",
   "execution_count": 7,
   "metadata": {},
   "outputs": [],
   "source": [
    "vacancy['vacancy'] = (365 - vacancy['days_rented'])/365"
   ]
  },
  {
   "cell_type": "code",
   "execution_count": 23,
   "metadata": {},
   "outputs": [
    {
     "data": {
      "text/plain": [
       "0.21877487402022483"
      ]
     },
     "execution_count": 23,
     "metadata": {},
     "output_type": "execute_result"
    }
   ],
   "source": [
    "#With an average occupancy rate of 61.6 percent, Berlin has the 7th highest Airbnb demand in the world, \n",
    "#the most of any other European city besides Lisbon.\n",
    "vacancy['vacancy'].mean()"
   ]
  },
  {
   "cell_type": "code",
   "execution_count": 9,
   "metadata": {},
   "outputs": [
    {
     "data": {
      "text/plain": [
       "<AxesSubplot:>"
      ]
     },
     "execution_count": 9,
     "metadata": {},
     "output_type": "execute_result"
    },
    {
     "data": {
      "image/png": "[encoded data removed]",
      "text/plain": [
       "<Figure size 432x288 with 1 Axes>"
      ]
     },
     "metadata": {
      "needs_background": "light"
     },
     "output_type": "display_data"
    }
   ],
   "source": [
    "vacancy['vacancy'].hist()"
   ]
  },
  {
   "cell_type": "markdown",
   "metadata": {},
   "source": [
    "### Observations\n",
    "- This looks better than I thought.  For the most part, most homes in Berlin are rented out a good portion of the year.  There are about 3000-4000 homes that have high vacancy rates.  I will most likely delete these values as they may represent people who are not actively seeking out renters"
   ]
  },
  {
   "cell_type": "code",
   "execution_count": 10,
   "metadata": {},
   "outputs": [],
   "source": [
    "df1 = df.merge(vacancy, left_on='id', right_on='listing_id')"
   ]
  },
  {
   "cell_type": "code",
   "execution_count": 12,
   "metadata": {
    "scrolled": false
   },
   "outputs": [
    {
     "data": {
      "text/plain": [
       "neighbourhood_group_cleansed\n",
       "Charlottenburg-Wilm.        0.324195\n",
       "Friedrichshain-Kreuzberg    0.182188\n",
       "Lichtenberg                 0.203094\n",
       "Marzahn - Hellersdorf       0.489595\n",
       "Mitte                       0.233236\n",
       "Neukölln                    0.142620\n",
       "Pankow                      0.221943\n",
       "Reinickendorf               0.323110\n",
       "Spandau                     0.535793\n",
       "Steglitz - Zehlendorf       0.343720\n",
       "Tempelhof - Schöneberg      0.255058\n",
       "Treptow - Köpenick          0.248836\n",
       "Name: vacancy, dtype: float64"
      ]
     },
     "execution_count": 12,
     "metadata": {},
     "output_type": "execute_result"
    }
   ],
   "source": [
    "df1.groupby('neighbourhood_group_cleansed')['vacancy'].mean()"
   ]
  },
  {
   "cell_type": "markdown",
   "metadata": {},
   "source": [
    "### Observations\n",
    "- For the most part, the vacancy rate is staying below 35% which is right where the average for Berlin is.  \n",
    "- For the areas with higher vacancy rates investigate more: \n",
    "    * Marzahn - Hellersdorf: Originally part of east berlin.  Does not seem like a attractive place to live. Also a place with high Neo-Nazi Activity. \n",
    "    * Spandau : Just looks like a sleepy suburb that tourists wouldn't try to visit. "
   ]
  },
  {
   "cell_type": "code",
   "execution_count": 13,
   "metadata": {},
   "outputs": [],
   "source": [
    "df1.to_pickle('List_Cal_df.pkl')"
   ]
  },
  {
   "cell_type": "code",
   "execution_count": null,
   "metadata": {},
   "outputs": [],
   "source": []
  }
 ],
 "metadata": {
  "kernelspec": {
   "display_name": "Python 3",
   "language": "python",
   "name": "python3"
  },
  "language_info": {
   "codemirror_mode": {
    "name": "ipython",
    "version": 3
   },
   "file_extension": ".py",
   "mimetype": "text/x-python",
   "name": "python",
   "nbconvert_exporter": "python",
   "pygments_lexer": "ipython3",
   "version": "3.8.5"
  }
 },
 "nbformat": 4,
 "nbformat_minor": 4
}
